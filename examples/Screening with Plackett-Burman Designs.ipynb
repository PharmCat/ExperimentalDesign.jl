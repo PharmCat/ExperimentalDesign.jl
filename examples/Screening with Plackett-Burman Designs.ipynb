{
 "cells": [
  {
   "cell_type": "markdown",
   "metadata": {},
   "source": [
    "# Introduction\n",
    "\n",
    "This a short guide on how to generate *Plackett-Burman* designs for screening and computing main effects for a measured response.\n",
    "\n",
    "## Setup\n",
    "\n",
    "First, check if you are at the correct project environment. It should be `ExperimentalDesign`:"
   ]
  },
  {
   "cell_type": "code",
   "execution_count": 1,
   "metadata": {},
   "outputs": [
    {
     "name": "stdout",
     "output_type": "stream",
     "text": [
      "\u001b[36m\u001b[1mProject \u001b[22m\u001b[39mExperimentalDesign v0.2.0\n",
      "\u001b[32m\u001b[1m    Status\u001b[22m\u001b[39m `~/.julia/dev/ExperimentalDesign/Project.toml`\n",
      " \u001b[90m [a93c6f00]\u001b[39m\u001b[37m DataFrames v0.20.2\u001b[39m\n",
      " \u001b[90m [864edb3b]\u001b[39m\u001b[37m DataStructures v0.17.10\u001b[39m\n",
      " \u001b[90m [31c24e10]\u001b[39m\u001b[37m Distributions v0.22.6\u001b[39m\n",
      " \u001b[90m [ffbed154]\u001b[39m\u001b[37m DocStringExtensions v0.8.1\u001b[39m\n",
      " \u001b[90m [e30172f5]\u001b[39m\u001b[37m Documenter v0.24.6\u001b[39m\n",
      " \u001b[90m [38e38edf]\u001b[39m\u001b[37m GLM v1.3.7\u001b[39m\n",
      " \u001b[90m [27ebfcd6]\u001b[39m\u001b[37m Primes v0.4.0\u001b[39m\n",
      " \u001b[90m [2913bbd2]\u001b[39m\u001b[37m StatsBase v0.32.2\u001b[39m\n",
      " \u001b[90m [3eaba693]\u001b[39m\u001b[37m StatsModels v0.6.10\u001b[39m\n",
      " \u001b[90m [37e2e46d]\u001b[39m\u001b[37m LinearAlgebra \u001b[39m\n",
      " \u001b[90m [56ddb016]\u001b[39m\u001b[37m Logging \u001b[39m\n",
      " \u001b[90m [9a3f8284]\u001b[39m\u001b[37m Random \u001b[39m\n",
      " \u001b[90m [8dfed614]\u001b[39m\u001b[37m Test \u001b[39m\n"
     ]
    }
   ],
   "source": [
    "] st"
   ]
  },
  {
   "cell_type": "markdown",
   "metadata": {},
   "source": [
    "Then check if all packages are installed and up to date:"
   ]
  },
  {
   "cell_type": "code",
   "execution_count": 2,
   "metadata": {},
   "outputs": [
    {
     "name": "stdout",
     "output_type": "stream",
     "text": [
      "\u001b[32m\u001b[1m  Updating\u001b[22m\u001b[39m registry at `~/.julia/registries/General`\n",
      "\u001b[32m\u001b[1m  Updating\u001b[22m\u001b[39m git-repo `https://github.com/JuliaRegistries/General.git`\n",
      "\u001b[2K\u001b[?25h[1mFetching:\u001b[22m\u001b[39m [========================================>]  100.0 %.0 %\u001b[32m\u001b[1m Resolving\u001b[22m\u001b[39m package versions...\n",
      "\u001b[32m\u001b[1m  Updating\u001b[22m\u001b[39m `~/.julia/dev/ExperimentalDesign/Project.toml`\n",
      "\u001b[90m [no changes]\u001b[39m\n",
      "\u001b[32m\u001b[1m  Updating\u001b[22m\u001b[39m `~/.julia/dev/ExperimentalDesign/Manifest.toml`\n",
      "\u001b[90m [no changes]\u001b[39m\n"
     ]
    }
   ],
   "source": [
    "] up"
   ]
  },
  {
   "cell_type": "code",
   "execution_count": 3,
   "metadata": {},
   "outputs": [],
   "source": [
    "using ExperimentalDesign, GLM, Distributions, DataFrames"
   ]
  },
  {
   "cell_type": "markdown",
   "metadata": {},
   "source": [
    "# Generating Plackett-Burman Designs\n",
    "\n",
    "A Plackett-Burman design is an orthogonal design matrix for factors $f_1,\\dots,f_N$. Factors are encoded by high and low values, which can be mapped to the interval $[-1, 1]$. For example:"
   ]
  },
  {
   "cell_type": "code",
   "execution_count": 4,
   "metadata": {},
   "outputs": [
    {
     "data": {
      "text/html": [
       "<table class=\"data-frame\"><thead><tr><th></th><th>factor1</th><th>factor2</th><th>factor3</th><th>factor4</th><th>factor5</th><th>factor6</th><th>dummy1</th></tr><tr><th></th><th>Int64</th><th>Int64</th><th>Int64</th><th>Int64</th><th>Int64</th><th>Int64</th><th>Int64</th></tr></thead><tbody><p>8 rows × 7 columns</p><tr><th>1</th><td>1</td><td>1</td><td>1</td><td>1</td><td>1</td><td>1</td><td>1</td></tr><tr><th>2</th><td>-1</td><td>1</td><td>-1</td><td>1</td><td>1</td><td>-1</td><td>-1</td></tr><tr><th>3</th><td>1</td><td>-1</td><td>1</td><td>1</td><td>-1</td><td>-1</td><td>-1</td></tr><tr><th>4</th><td>-1</td><td>1</td><td>1</td><td>-1</td><td>-1</td><td>-1</td><td>1</td></tr><tr><th>5</th><td>1</td><td>1</td><td>-1</td><td>-1</td><td>-1</td><td>1</td><td>-1</td></tr><tr><th>6</th><td>1</td><td>-1</td><td>-1</td><td>-1</td><td>1</td><td>-1</td><td>1</td></tr><tr><th>7</th><td>-1</td><td>-1</td><td>-1</td><td>1</td><td>-1</td><td>1</td><td>1</td></tr><tr><th>8</th><td>-1</td><td>-1</td><td>1</td><td>-1</td><td>1</td><td>1</td><td>-1</td></tr></tbody></table>"
      ],
      "text/latex": [
       "\\begin{tabular}{r|ccccccc}\n",
       "\t& factor1 & factor2 & factor3 & factor4 & factor5 & factor6 & dummy1\\\\\n",
       "\t\\hline\n",
       "\t& Int64 & Int64 & Int64 & Int64 & Int64 & Int64 & Int64\\\\\n",
       "\t\\hline\n",
       "\t1 & 1 & 1 & 1 & 1 & 1 & 1 & 1 \\\\\n",
       "\t2 & -1 & 1 & -1 & 1 & 1 & -1 & -1 \\\\\n",
       "\t3 & 1 & -1 & 1 & 1 & -1 & -1 & -1 \\\\\n",
       "\t4 & -1 & 1 & 1 & -1 & -1 & -1 & 1 \\\\\n",
       "\t5 & 1 & 1 & -1 & -1 & -1 & 1 & -1 \\\\\n",
       "\t6 & 1 & -1 & -1 & -1 & 1 & -1 & 1 \\\\\n",
       "\t7 & -1 & -1 & -1 & 1 & -1 & 1 & 1 \\\\\n",
       "\t8 & -1 & -1 & 1 & -1 & 1 & 1 & -1 \\\\\n",
       "\\end{tabular}\n"
      ],
      "text/plain": [
       "8×7 DataFrame\n",
       "│ Row │ factor1 │ factor2 │ factor3 │ factor4 │ factor5 │ factor6 │ dummy1 │\n",
       "│     │ \u001b[90mInt64\u001b[39m   │ \u001b[90mInt64\u001b[39m   │ \u001b[90mInt64\u001b[39m   │ \u001b[90mInt64\u001b[39m   │ \u001b[90mInt64\u001b[39m   │ \u001b[90mInt64\u001b[39m   │ \u001b[90mInt64\u001b[39m  │\n",
       "├─────┼─────────┼─────────┼─────────┼─────────┼─────────┼─────────┼────────┤\n",
       "│ 1   │ 1       │ 1       │ 1       │ 1       │ 1       │ 1       │ 1      │\n",
       "│ 2   │ -1      │ 1       │ -1      │ 1       │ 1       │ -1      │ -1     │\n",
       "│ 3   │ 1       │ -1      │ 1       │ 1       │ -1      │ -1      │ -1     │\n",
       "│ 4   │ -1      │ 1       │ 1       │ -1      │ -1      │ -1      │ 1      │\n",
       "│ 5   │ 1       │ 1       │ -1      │ -1      │ -1      │ 1       │ -1     │\n",
       "│ 6   │ 1       │ -1      │ -1      │ -1      │ 1       │ -1      │ 1      │\n",
       "│ 7   │ -1      │ -1      │ -1      │ 1       │ -1      │ 1       │ 1      │\n",
       "│ 8   │ -1      │ -1      │ 1       │ -1      │ 1       │ 1       │ -1     │"
      ]
     },
     "execution_count": 4,
     "metadata": {},
     "output_type": "execute_result"
    }
   ],
   "source": [
    "design = PlackettBurman(6)\n",
    "design.matrix"
   ]
  },
  {
   "cell_type": "markdown",
   "metadata": {},
   "source": [
    "Note that it is not possible to construct exact Plackett-Burman designs for all numbers of factors. In the example above, we needed a seventh extra \"dummy\" column to construct the design for six factors.\n",
    "\n",
    "Using the `PlackettBurman` allows quick construction of minimal screening designs for scenarios where we ignore interactions. We can access the underlying formula:"
   ]
  },
  {
   "cell_type": "code",
   "execution_count": 5,
   "metadata": {},
   "outputs": [
    {
     "name": "stdout",
     "output_type": "stream",
     "text": [
      "response ~ -1 + factor1 + factor2 + factor3 + factor4 + factor5 + factor6 + dummy1\n"
     ]
    }
   ],
   "source": [
    "println(design.formula)"
   ]
  },
  {
   "cell_type": "markdown",
   "metadata": {},
   "source": [
    "Notice we ignore interactions and include the dummy factor in the model. Strong main effects attributed to dummy factors may indicate important interactions.\n",
    "\n",
    "We can obtain a tuple with the names of dummy factors:"
   ]
  },
  {
   "cell_type": "code",
   "execution_count": 6,
   "metadata": {},
   "outputs": [
    {
     "data": {
      "text/plain": [
       "(:dummy1,)"
      ]
     },
     "execution_count": 6,
     "metadata": {},
     "output_type": "execute_result"
    }
   ],
   "source": [
    "design.dummy_factors"
   ]
  },
  {
   "cell_type": "markdown",
   "metadata": {},
   "source": [
    "We can also get the main factors tuple:"
   ]
  },
  {
   "cell_type": "code",
   "execution_count": 7,
   "metadata": {},
   "outputs": [
    {
     "data": {
      "text/plain": [
       "(:factor1, :factor2, :factor3, :factor4, :factor5, :factor6)"
      ]
     },
     "execution_count": 7,
     "metadata": {},
     "output_type": "execute_result"
    }
   ],
   "source": [
    "design.factors"
   ]
  },
  {
   "cell_type": "markdown",
   "metadata": {},
   "source": [
    "# Computing Main Effects\n",
    "\n",
    "Suppose that the underlying formula controlling the response variable on the experiments specified in our screening design is given by:"
   ]
  },
  {
   "cell_type": "code",
   "execution_count": 8,
   "metadata": {},
   "outputs": [
    {
     "data": {
      "text/plain": [
       "y (generic function with 1 method)"
      ]
     },
     "execution_count": 8,
     "metadata": {},
     "output_type": "execute_result"
    }
   ],
   "source": [
    "function y(x)\n",
    "    return (1.2) +\n",
    "           (2.3 * x[1]) +\n",
    "           (-3.4 * x[2]) +\n",
    "           (7.12 * x[3]) +\n",
    "           (-0.03 * x[4]) +\n",
    "           (1.1 * x[5]) +\n",
    "           (-0.5 * x[6]) +\n",
    "           (1.1 * randn())\n",
    "end"
   ]
  },
  {
   "cell_type": "code",
   "execution_count": 9,
   "metadata": {},
   "outputs": [
    {
     "data": {
      "text/html": [
       "<table class=\"data-frame\"><thead><tr><th></th><th>factor1</th><th>factor2</th><th>factor3</th><th>factor4</th><th>factor5</th><th>factor6</th><th>dummy1</th><th>response</th></tr><tr><th></th><th>Int64</th><th>Int64</th><th>Int64</th><th>Int64</th><th>Int64</th><th>Int64</th><th>Int64</th><th>Float64</th></tr></thead><tbody><p>8 rows × 8 columns</p><tr><th>1</th><td>1</td><td>1</td><td>1</td><td>1</td><td>1</td><td>1</td><td>1</td><td>7.60156</td></tr><tr><th>2</th><td>-1</td><td>1</td><td>-1</td><td>1</td><td>1</td><td>-1</td><td>-1</td><td>-9.05002</td></tr><tr><th>3</th><td>1</td><td>-1</td><td>1</td><td>1</td><td>-1</td><td>-1</td><td>-1</td><td>13.953</td></tr><tr><th>4</th><td>-1</td><td>1</td><td>1</td><td>-1</td><td>-1</td><td>-1</td><td>1</td><td>1.12954</td></tr><tr><th>5</th><td>1</td><td>1</td><td>-1</td><td>-1</td><td>-1</td><td>1</td><td>-1</td><td>-8.2963</td></tr><tr><th>6</th><td>1</td><td>-1</td><td>-1</td><td>-1</td><td>1</td><td>-1</td><td>1</td><td>1.47345</td></tr><tr><th>7</th><td>-1</td><td>-1</td><td>-1</td><td>1</td><td>-1</td><td>1</td><td>1</td><td>-5.40819</td></tr><tr><th>8</th><td>-1</td><td>-1</td><td>1</td><td>-1</td><td>1</td><td>1</td><td>-1</td><td>11.4663</td></tr></tbody></table>"
      ],
      "text/latex": [
       "\\begin{tabular}{r|cccccccc}\n",
       "\t& factor1 & factor2 & factor3 & factor4 & factor5 & factor6 & dummy1 & response\\\\\n",
       "\t\\hline\n",
       "\t& Int64 & Int64 & Int64 & Int64 & Int64 & Int64 & Int64 & Float64\\\\\n",
       "\t\\hline\n",
       "\t1 & 1 & 1 & 1 & 1 & 1 & 1 & 1 & 7.60156 \\\\\n",
       "\t2 & -1 & 1 & -1 & 1 & 1 & -1 & -1 & -9.05002 \\\\\n",
       "\t3 & 1 & -1 & 1 & 1 & -1 & -1 & -1 & 13.953 \\\\\n",
       "\t4 & -1 & 1 & 1 & -1 & -1 & -1 & 1 & 1.12954 \\\\\n",
       "\t5 & 1 & 1 & -1 & -1 & -1 & 1 & -1 & -8.2963 \\\\\n",
       "\t6 & 1 & -1 & -1 & -1 & 1 & -1 & 1 & 1.47345 \\\\\n",
       "\t7 & -1 & -1 & -1 & 1 & -1 & 1 & 1 & -5.40819 \\\\\n",
       "\t8 & -1 & -1 & 1 & -1 & 1 & 1 & -1 & 11.4663 \\\\\n",
       "\\end{tabular}\n"
      ],
      "text/plain": [
       "8×8 DataFrame. Omitted printing of 1 columns\n",
       "│ Row │ factor1 │ factor2 │ factor3 │ factor4 │ factor5 │ factor6 │ dummy1 │\n",
       "│     │ \u001b[90mInt64\u001b[39m   │ \u001b[90mInt64\u001b[39m   │ \u001b[90mInt64\u001b[39m   │ \u001b[90mInt64\u001b[39m   │ \u001b[90mInt64\u001b[39m   │ \u001b[90mInt64\u001b[39m   │ \u001b[90mInt64\u001b[39m  │\n",
       "├─────┼─────────┼─────────┼─────────┼─────────┼─────────┼─────────┼────────┤\n",
       "│ 1   │ 1       │ 1       │ 1       │ 1       │ 1       │ 1       │ 1      │\n",
       "│ 2   │ -1      │ 1       │ -1      │ 1       │ 1       │ -1      │ -1     │\n",
       "│ 3   │ 1       │ -1      │ 1       │ 1       │ -1      │ -1      │ -1     │\n",
       "│ 4   │ -1      │ 1       │ 1       │ -1      │ -1      │ -1      │ 1      │\n",
       "│ 5   │ 1       │ 1       │ -1      │ -1      │ -1      │ 1       │ -1     │\n",
       "│ 6   │ 1       │ -1      │ -1      │ -1      │ 1       │ -1      │ 1      │\n",
       "│ 7   │ -1      │ -1      │ -1      │ 1       │ -1      │ 1       │ 1      │\n",
       "│ 8   │ -1      │ -1      │ 1       │ -1      │ 1       │ 1       │ -1     │"
      ]
     },
     "execution_count": 9,
     "metadata": {},
     "output_type": "execute_result"
    }
   ],
   "source": [
    "design.matrix[!, :response] = y.(eachrow(design.matrix[:, collect(design.factors)]))\n",
    "design.matrix"
   ]
  },
  {
   "cell_type": "code",
   "execution_count": 10,
   "metadata": {},
   "outputs": [
    {
     "data": {
      "text/plain": [
       "StatsModels.TableRegressionModel{LinearModel{GLM.LmResp{Array{Float64,1}},GLM.DensePredChol{Float64,LinearAlgebra.Cholesky{Float64,Array{Float64,2}}}},Array{Float64,2}}\n",
       "\n",
       "response ~ 0 + factor1 + factor2 + factor3 + factor4 + factor5 + factor6 + dummy1\n",
       "\n",
       "Coefficients:\n",
       "─────────────────────────────────────────────────────────────────────────\n",
       "          Estimate  Std. Error    t value  Pr(>|t|)  Lower 95%  Upper 95%\n",
       "─────────────────────────────────────────────────────────────────────────\n",
       "factor1   2.07425      1.60867   1.28942     0.4199   -18.3659    22.5144\n",
       "factor2  -3.76248      1.60867  -2.33887     0.2572   -24.2026    16.6776\n",
       "factor3   6.92894      1.60867   4.30724     0.1452   -13.5112    27.3691\n",
       "factor4   0.165416     1.60867   0.102828    0.9348   -20.2747    20.6055\n",
       "factor5   1.26416      1.60867   0.78584     0.5760   -19.176     21.7043\n",
       "factor6  -0.26782      1.60867  -0.166485    0.8950   -20.7079    20.1723\n",
       "dummy1   -0.409582     1.60867  -0.254609    0.8413   -20.8497    20.0305\n",
       "─────────────────────────────────────────────────────────────────────────"
      ]
     },
     "execution_count": 10,
     "metadata": {},
     "output_type": "execute_result"
    }
   ],
   "source": [
    "lm(design.formula, design.matrix)"
   ]
  },
  {
   "cell_type": "code",
   "execution_count": 11,
   "metadata": {},
   "outputs": [
    {
     "data": {
      "text/html": [
       "<table class=\"data-frame\"><thead><tr><th></th><th>factor1</th><th>factor2</th><th>factor3</th><th>factor4</th><th>factor5</th><th>factor6</th></tr><tr><th></th><th>Float64</th><th>Float64</th><th>Float64</th><th>Float64</th><th>Float64</th><th>Float64</th></tr></thead><tbody><p>8 rows × 6 columns</p><tr><th>1</th><td>-0.068281</td><td>0.27051</td><td>0.138395</td><td>0.616745</td><td>-0.878983</td><td>0.613014</td></tr><tr><th>2</th><td>0.646655</td><td>0.876703</td><td>-0.0306063</td><td>-0.630772</td><td>0.238156</td><td>0.700154</td></tr><tr><th>3</th><td>-0.922054</td><td>-0.244378</td><td>0.323398</td><td>-0.215985</td><td>-0.213029</td><td>0.217699</td></tr><tr><th>4</th><td>0.940534</td><td>0.643173</td><td>-0.234738</td><td>-0.679713</td><td>0.178407</td><td>-0.415013</td></tr><tr><th>5</th><td>-0.887655</td><td>0.0764178</td><td>0.940784</td><td>-0.899612</td><td>0.865231</td><td>0.481555</td></tr><tr><th>6</th><td>-0.491294</td><td>0.840906</td><td>0.53816</td><td>-0.566049</td><td>0.356879</td><td>-0.537592</td></tr><tr><th>7</th><td>-0.187662</td><td>-0.0745744</td><td>0.48564</td><td>0.48893</td><td>-0.540243</td><td>-0.0906579</td></tr><tr><th>8</th><td>0.519675</td><td>0.16162</td><td>0.571374</td><td>-0.131514</td><td>0.249054</td><td>0.5962</td></tr></tbody></table>"
      ],
      "text/latex": [
       "\\begin{tabular}{r|cccccc}\n",
       "\t& factor1 & factor2 & factor3 & factor4 & factor5 & factor6\\\\\n",
       "\t\\hline\n",
       "\t& Float64 & Float64 & Float64 & Float64 & Float64 & Float64\\\\\n",
       "\t\\hline\n",
       "\t1 & -0.068281 & 0.27051 & 0.138395 & 0.616745 & -0.878983 & 0.613014 \\\\\n",
       "\t2 & 0.646655 & 0.876703 & -0.0306063 & -0.630772 & 0.238156 & 0.700154 \\\\\n",
       "\t3 & -0.922054 & -0.244378 & 0.323398 & -0.215985 & -0.213029 & 0.217699 \\\\\n",
       "\t4 & 0.940534 & 0.643173 & -0.234738 & -0.679713 & 0.178407 & -0.415013 \\\\\n",
       "\t5 & -0.887655 & 0.0764178 & 0.940784 & -0.899612 & 0.865231 & 0.481555 \\\\\n",
       "\t6 & -0.491294 & 0.840906 & 0.53816 & -0.566049 & 0.356879 & -0.537592 \\\\\n",
       "\t7 & -0.187662 & -0.0745744 & 0.48564 & 0.48893 & -0.540243 & -0.0906579 \\\\\n",
       "\t8 & 0.519675 & 0.16162 & 0.571374 & -0.131514 & 0.249054 & 0.5962 \\\\\n",
       "\\end{tabular}\n"
      ],
      "text/plain": [
       "8×6 DataFrame. Omitted printing of 1 columns\n",
       "│ Row │ factor1   │ factor2    │ factor3    │ factor4   │ factor5   │\n",
       "│     │ \u001b[90mFloat64\u001b[39m   │ \u001b[90mFloat64\u001b[39m    │ \u001b[90mFloat64\u001b[39m    │ \u001b[90mFloat64\u001b[39m   │ \u001b[90mFloat64\u001b[39m   │\n",
       "├─────┼───────────┼────────────┼────────────┼───────────┼───────────┤\n",
       "│ 1   │ -0.068281 │ 0.27051    │ 0.138395   │ 0.616745  │ -0.878983 │\n",
       "│ 2   │ 0.646655  │ 0.876703   │ -0.0306063 │ -0.630772 │ 0.238156  │\n",
       "│ 3   │ -0.922054 │ -0.244378  │ 0.323398   │ -0.215985 │ -0.213029 │\n",
       "│ 4   │ 0.940534  │ 0.643173   │ -0.234738  │ -0.679713 │ 0.178407  │\n",
       "│ 5   │ -0.887655 │ 0.0764178  │ 0.940784   │ -0.899612 │ 0.865231  │\n",
       "│ 6   │ -0.491294 │ 0.840906   │ 0.53816    │ -0.566049 │ 0.356879  │\n",
       "│ 7   │ -0.187662 │ -0.0745744 │ 0.48564    │ 0.48893   │ -0.540243 │\n",
       "│ 8   │ 0.519675  │ 0.16162    │ 0.571374   │ -0.131514 │ 0.249054  │"
      ]
     },
     "execution_count": 11,
     "metadata": {},
     "output_type": "execute_result"
    }
   ],
   "source": [
    "random_design_generator = RandomDesign(tuple(fill(Uniform(-1, 1), 6)...))\n",
    "random_design = rand(random_design_generator, 8)"
   ]
  },
  {
   "cell_type": "code",
   "execution_count": 12,
   "metadata": {},
   "outputs": [
    {
     "data": {
      "text/html": [
       "<table class=\"data-frame\"><thead><tr><th></th><th>factor1</th><th>factor2</th><th>factor3</th><th>factor4</th><th>factor5</th><th>factor6</th><th>response</th></tr><tr><th></th><th>Float64</th><th>Float64</th><th>Float64</th><th>Float64</th><th>Float64</th><th>Float64</th><th>Float64</th></tr></thead><tbody><p>8 rows × 7 columns</p><tr><th>1</th><td>-0.068281</td><td>0.27051</td><td>0.138395</td><td>0.616745</td><td>-0.878983</td><td>0.613014</td><td>-0.448489</td></tr><tr><th>2</th><td>0.646655</td><td>0.876703</td><td>-0.0306063</td><td>-0.630772</td><td>0.238156</td><td>0.700154</td><td>-1.94126</td></tr><tr><th>3</th><td>-0.922054</td><td>-0.244378</td><td>0.323398</td><td>-0.215985</td><td>-0.213029</td><td>0.217699</td><td>0.269011</td></tr><tr><th>4</th><td>0.940534</td><td>0.643173</td><td>-0.234738</td><td>-0.679713</td><td>0.178407</td><td>-0.415013</td><td>-1.5139</td></tr><tr><th>5</th><td>-0.887655</td><td>0.0764178</td><td>0.940784</td><td>-0.899612</td><td>0.865231</td><td>0.481555</td><td>6.67367</td></tr><tr><th>6</th><td>-0.491294</td><td>0.840906</td><td>0.53816</td><td>-0.566049</td><td>0.356879</td><td>-0.537592</td><td>0.875101</td></tr><tr><th>7</th><td>-0.187662</td><td>-0.0745744</td><td>0.48564</td><td>0.48893</td><td>-0.540243</td><td>-0.0906579</td><td>3.17484</td></tr><tr><th>8</th><td>0.519675</td><td>0.16162</td><td>0.571374</td><td>-0.131514</td><td>0.249054</td><td>0.5962</td><td>5.10367</td></tr></tbody></table>"
      ],
      "text/latex": [
       "\\begin{tabular}{r|ccccccc}\n",
       "\t& factor1 & factor2 & factor3 & factor4 & factor5 & factor6 & response\\\\\n",
       "\t\\hline\n",
       "\t& Float64 & Float64 & Float64 & Float64 & Float64 & Float64 & Float64\\\\\n",
       "\t\\hline\n",
       "\t1 & -0.068281 & 0.27051 & 0.138395 & 0.616745 & -0.878983 & 0.613014 & -0.448489 \\\\\n",
       "\t2 & 0.646655 & 0.876703 & -0.0306063 & -0.630772 & 0.238156 & 0.700154 & -1.94126 \\\\\n",
       "\t3 & -0.922054 & -0.244378 & 0.323398 & -0.215985 & -0.213029 & 0.217699 & 0.269011 \\\\\n",
       "\t4 & 0.940534 & 0.643173 & -0.234738 & -0.679713 & 0.178407 & -0.415013 & -1.5139 \\\\\n",
       "\t5 & -0.887655 & 0.0764178 & 0.940784 & -0.899612 & 0.865231 & 0.481555 & 6.67367 \\\\\n",
       "\t6 & -0.491294 & 0.840906 & 0.53816 & -0.566049 & 0.356879 & -0.537592 & 0.875101 \\\\\n",
       "\t7 & -0.187662 & -0.0745744 & 0.48564 & 0.48893 & -0.540243 & -0.0906579 & 3.17484 \\\\\n",
       "\t8 & 0.519675 & 0.16162 & 0.571374 & -0.131514 & 0.249054 & 0.5962 & 5.10367 \\\\\n",
       "\\end{tabular}\n"
      ],
      "text/plain": [
       "8×7 DataFrame. Omitted printing of 2 columns\n",
       "│ Row │ factor1   │ factor2    │ factor3    │ factor4   │ factor5   │\n",
       "│     │ \u001b[90mFloat64\u001b[39m   │ \u001b[90mFloat64\u001b[39m    │ \u001b[90mFloat64\u001b[39m    │ \u001b[90mFloat64\u001b[39m   │ \u001b[90mFloat64\u001b[39m   │\n",
       "├─────┼───────────┼────────────┼────────────┼───────────┼───────────┤\n",
       "│ 1   │ -0.068281 │ 0.27051    │ 0.138395   │ 0.616745  │ -0.878983 │\n",
       "│ 2   │ 0.646655  │ 0.876703   │ -0.0306063 │ -0.630772 │ 0.238156  │\n",
       "│ 3   │ -0.922054 │ -0.244378  │ 0.323398   │ -0.215985 │ -0.213029 │\n",
       "│ 4   │ 0.940534  │ 0.643173   │ -0.234738  │ -0.679713 │ 0.178407  │\n",
       "│ 5   │ -0.887655 │ 0.0764178  │ 0.940784   │ -0.899612 │ 0.865231  │\n",
       "│ 6   │ -0.491294 │ 0.840906   │ 0.53816    │ -0.566049 │ 0.356879  │\n",
       "│ 7   │ -0.187662 │ -0.0745744 │ 0.48564    │ 0.48893   │ -0.540243 │\n",
       "│ 8   │ 0.519675  │ 0.16162    │ 0.571374   │ -0.131514 │ 0.249054  │"
      ]
     },
     "execution_count": 12,
     "metadata": {},
     "output_type": "execute_result"
    }
   ],
   "source": [
    "random_design[!, :response] = y.(eachrow(random_design[:, :]))\n",
    "random_design"
   ]
  },
  {
   "cell_type": "code",
   "execution_count": 15,
   "metadata": {},
   "outputs": [
    {
     "data": {
      "text/plain": [
       "StatsModels.TableRegressionModel{LinearModel{GLM.LmResp{Array{Float64,1}},GLM.DensePredChol{Float64,LinearAlgebra.Cholesky{Float64,Array{Float64,2}}}},Array{Float64,2}}\n",
       "\n",
       "response ~ 1 + factor1 + factor2 + factor3 + factor4 + factor5 + factor6\n",
       "\n",
       "Coefficients:\n",
       "───────────────────────────────────────────────────────────────────────────────\n",
       "               Estimate  Std. Error    t value  Pr(>|t|)   Lower 95%  Upper 95%\n",
       "───────────────────────────────────────────────────────────────────────────────\n",
       "(Intercept)  -22.2141      34.4849   -0.644167    0.6357   -460.387     415.959\n",
       "factor1       13.7056      17.9554    0.763314    0.5849   -214.439     241.85 \n",
       "factor2       -2.53213      1.32228  -1.91498     0.3064    -19.3333     14.269\n",
       "factor3       47.0808      60.5723    0.777266    0.5794   -722.563     816.725\n",
       "factor4      -42.4974      67.2713   -0.631732    0.6413   -897.26      812.265\n",
       "factor5      -48.2423      77.5769   -0.621864    0.6458  -1033.95      937.466\n",
       "factor6        0.289817     1.07012   0.270826    0.8316    -13.3074     13.887\n",
       "───────────────────────────────────────────────────────────────────────────────"
      ]
     },
     "execution_count": 15,
     "metadata": {},
     "output_type": "execute_result"
    }
   ],
   "source": [
    "lm(random_design_generator.formula, random_design)"
   ]
  },
  {
   "cell_type": "code",
   "execution_count": 14,
   "metadata": {},
   "outputs": [
    {
     "data": {
      "text/plain": [
       "StatsModels.TableRegressionModel{LinearModel{GLM.LmResp{Array{Float64,1}},GLM.DensePredChol{Float64,LinearAlgebra.Cholesky{Float64,Array{Float64,2}}}},Array{Float64,2}}\n",
       "\n",
       "response ~ 0 + factor1 + factor2 + factor3 + factor4 + factor5 + factor6 + dummy1\n",
       "\n",
       "Coefficients:\n",
       "─────────────────────────────────────────────────────────────────────────\n",
       "          Estimate  Std. Error    t value  Pr(>|t|)  Lower 95%  Upper 95%\n",
       "─────────────────────────────────────────────────────────────────────────\n",
       "factor1   2.07425      1.60867   1.28942     0.4199   -18.3659    22.5144\n",
       "factor2  -3.76248      1.60867  -2.33887     0.2572   -24.2026    16.6776\n",
       "factor3   6.92894      1.60867   4.30724     0.1452   -13.5112    27.3691\n",
       "factor4   0.165416     1.60867   0.102828    0.9348   -20.2747    20.6055\n",
       "factor5   1.26416      1.60867   0.78584     0.5760   -19.176     21.7043\n",
       "factor6  -0.26782      1.60867  -0.166485    0.8950   -20.7079    20.1723\n",
       "dummy1   -0.409582     1.60867  -0.254609    0.8413   -20.8497    20.0305\n",
       "─────────────────────────────────────────────────────────────────────────"
      ]
     },
     "execution_count": 14,
     "metadata": {},
     "output_type": "execute_result"
    }
   ],
   "source": [
    "lm(design.formula, design.matrix)"
   ]
  }
 ],
 "metadata": {
  "kernelspec": {
   "display_name": "Julia 1.3.1",
   "language": "julia",
   "name": "julia-1.3"
  },
  "language_info": {
   "file_extension": ".jl",
   "mimetype": "application/julia",
   "name": "julia",
   "version": "1.3.1"
  }
 },
 "nbformat": 4,
 "nbformat_minor": 2
}
