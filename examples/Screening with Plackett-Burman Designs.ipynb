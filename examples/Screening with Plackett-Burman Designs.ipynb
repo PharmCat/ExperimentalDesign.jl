{
 "cells": [
  {
   "cell_type": "markdown",
   "metadata": {},
   "source": [
    "# Introduction\n",
    "\n",
    "This a short guide on how to generate *Plackett-Burman* designs for screening and computing main effects of factors using a linear model fit. For more information, check the [documentation](https://phrb.github.io/ExperimentalDesign.jl/dev/).\n",
    "\n",
    "## Setup\n",
    "\n",
    "First, check if you are at the correct project environment. It should be `ExperimentalDesign`:"
   ]
  },
  {
   "cell_type": "code",
   "execution_count": 1,
   "metadata": {},
   "outputs": [
    {
     "name": "stdout",
     "output_type": "stream",
     "text": [
      "\u001b[36m\u001b[1mProject \u001b[22m\u001b[39mExperimentalDesign v0.3.0\n",
      "\u001b[32m\u001b[1m    Status\u001b[22m\u001b[39m `~/.julia/dev/ExperimentalDesign/Project.toml`\n",
      " \u001b[90m [a93c6f00]\u001b[39m\u001b[37m DataFrames v0.21.3\u001b[39m\n",
      " \u001b[90m [864edb3b]\u001b[39m\u001b[37m DataStructures v0.17.18\u001b[39m\n",
      " \u001b[90m [31c24e10]\u001b[39m\u001b[37m Distributions v0.23.4\u001b[39m\n",
      " \u001b[90m [ffbed154]\u001b[39m\u001b[37m DocStringExtensions v0.8.2\u001b[39m\n",
      " \u001b[90m [e30172f5]\u001b[39m\u001b[37m Documenter v0.24.11\u001b[39m\n",
      " \u001b[90m [38e38edf]\u001b[39m\u001b[37m GLM v1.3.9\u001b[39m\n",
      " \u001b[90m [27ebfcd6]\u001b[39m\u001b[37m Primes v0.5.0\u001b[39m\n",
      " \u001b[90m [2913bbd2]\u001b[39m\u001b[37m StatsBase v0.33.0\u001b[39m\n",
      " \u001b[90m [3eaba693]\u001b[39m\u001b[37m StatsModels v0.6.11\u001b[39m\n",
      " \u001b[90m [37e2e46d]\u001b[39m\u001b[37m LinearAlgebra \u001b[39m\n",
      " \u001b[90m [56ddb016]\u001b[39m\u001b[37m Logging \u001b[39m\n",
      " \u001b[90m [9a3f8284]\u001b[39m\u001b[37m Random \u001b[39m\n",
      " \u001b[90m [8dfed614]\u001b[39m\u001b[37m Test \u001b[39m\n"
     ]
    }
   ],
   "source": [
    "using Pkg\n",
    "Pkg.status()"
   ]
  },
  {
   "cell_type": "markdown",
   "metadata": {},
   "source": [
    "Then check if all packages are installed and up to date:"
   ]
  },
  {
   "cell_type": "code",
   "execution_count": 2,
   "metadata": {},
   "outputs": [
    {
     "name": "stdout",
     "output_type": "stream",
     "text": [
      "\u001b[32m\u001b[1m  Updating\u001b[22m\u001b[39m registry at `~/.julia/registries/General`\n",
      "\u001b[32m\u001b[1m  Updating\u001b[22m\u001b[39m git-repo `https://github.com/JuliaRegistries/General.git`\n",
      "\u001b[2K\u001b[?25h[1mFetching:\u001b[22m\u001b[39m [========================================>]  100.0 %.0 %\u001b[32m\u001b[1m Resolving\u001b[22m\u001b[39m package versions...\n",
      "\u001b[32m\u001b[1m  Updating\u001b[22m\u001b[39m `~/.julia/dev/ExperimentalDesign/Project.toml`\n",
      "\u001b[90m [no changes]\u001b[39m\n",
      "\u001b[32m\u001b[1m  Updating\u001b[22m\u001b[39m `~/.julia/dev/ExperimentalDesign/Manifest.toml`\n",
      "\u001b[90m [no changes]\u001b[39m\n"
     ]
    }
   ],
   "source": [
    "Pkg.update()"
   ]
  },
  {
   "cell_type": "code",
   "execution_count": 2,
   "metadata": {},
   "outputs": [
    {
     "name": "stderr",
     "output_type": "stream",
     "text": [
      "┌ Info: Precompiling ExperimentalDesign [4babbea4-9e7d-11e9-116f-e1ada04bd296]\n",
      "└ @ Base loading.jl:1273\n",
      "┌ Info: Precompiling GLM [38e38edf-8417-5370-95a0-9cbb8c7f171a]\n",
      "└ @ Base loading.jl:1273\n"
     ]
    }
   ],
   "source": [
    "using ExperimentalDesign, StatsModels, GLM, DataFrames, Distributions, Random"
   ]
  },
  {
   "cell_type": "markdown",
   "metadata": {},
   "source": [
    "# Generating Plackett-Burman Designs\n",
    "\n",
    "A Plackett-Burman design is an orthogonal design matrix for factors $f_1,\\dots,f_N$. Factors are encoded by high and low values, which can be mapped to the interval $[-1, 1]$. For designs in this package, the design matrix is a `DataFrame` from the [DataFrame package](https://juliastats.org/GLM.jl/stable/). For example, let's create a Plackett-Burman design for 6 factors:"
   ]
  },
  {
   "cell_type": "code",
   "execution_count": 3,
   "metadata": {},
   "outputs": [
    {
     "data": {
      "text/html": [
       "<table class=\"data-frame\"><thead><tr><th></th><th>factor1</th><th>factor2</th><th>factor3</th><th>factor4</th><th>factor5</th><th>factor6</th><th>dummy1</th></tr><tr><th></th><th>Int64</th><th>Int64</th><th>Int64</th><th>Int64</th><th>Int64</th><th>Int64</th><th>Int64</th></tr></thead><tbody><p>8 rows × 7 columns</p><tr><th>1</th><td>1</td><td>1</td><td>1</td><td>1</td><td>1</td><td>1</td><td>1</td></tr><tr><th>2</th><td>-1</td><td>1</td><td>-1</td><td>1</td><td>1</td><td>-1</td><td>-1</td></tr><tr><th>3</th><td>1</td><td>-1</td><td>1</td><td>1</td><td>-1</td><td>-1</td><td>-1</td></tr><tr><th>4</th><td>-1</td><td>1</td><td>1</td><td>-1</td><td>-1</td><td>-1</td><td>1</td></tr><tr><th>5</th><td>1</td><td>1</td><td>-1</td><td>-1</td><td>-1</td><td>1</td><td>-1</td></tr><tr><th>6</th><td>1</td><td>-1</td><td>-1</td><td>-1</td><td>1</td><td>-1</td><td>1</td></tr><tr><th>7</th><td>-1</td><td>-1</td><td>-1</td><td>1</td><td>-1</td><td>1</td><td>1</td></tr><tr><th>8</th><td>-1</td><td>-1</td><td>1</td><td>-1</td><td>1</td><td>1</td><td>-1</td></tr></tbody></table>"
      ],
      "text/latex": [
       "\\begin{tabular}{r|ccccccc}\n",
       "\t& factor1 & factor2 & factor3 & factor4 & factor5 & factor6 & dummy1\\\\\n",
       "\t\\hline\n",
       "\t& Int64 & Int64 & Int64 & Int64 & Int64 & Int64 & Int64\\\\\n",
       "\t\\hline\n",
       "\t1 & 1 & 1 & 1 & 1 & 1 & 1 & 1 \\\\\n",
       "\t2 & -1 & 1 & -1 & 1 & 1 & -1 & -1 \\\\\n",
       "\t3 & 1 & -1 & 1 & 1 & -1 & -1 & -1 \\\\\n",
       "\t4 & -1 & 1 & 1 & -1 & -1 & -1 & 1 \\\\\n",
       "\t5 & 1 & 1 & -1 & -1 & -1 & 1 & -1 \\\\\n",
       "\t6 & 1 & -1 & -1 & -1 & 1 & -1 & 1 \\\\\n",
       "\t7 & -1 & -1 & -1 & 1 & -1 & 1 & 1 \\\\\n",
       "\t8 & -1 & -1 & 1 & -1 & 1 & 1 & -1 \\\\\n",
       "\\end{tabular}\n"
      ],
      "text/plain": [
       "8×7 DataFrame\n",
       "│ Row │ factor1 │ factor2 │ factor3 │ factor4 │ factor5 │ factor6 │ dummy1 │\n",
       "│     │ \u001b[90mInt64\u001b[39m   │ \u001b[90mInt64\u001b[39m   │ \u001b[90mInt64\u001b[39m   │ \u001b[90mInt64\u001b[39m   │ \u001b[90mInt64\u001b[39m   │ \u001b[90mInt64\u001b[39m   │ \u001b[90mInt64\u001b[39m  │\n",
       "├─────┼─────────┼─────────┼─────────┼─────────┼─────────┼─────────┼────────┤\n",
       "│ 1   │ 1       │ 1       │ 1       │ 1       │ 1       │ 1       │ 1      │\n",
       "│ 2   │ -1      │ 1       │ -1      │ 1       │ 1       │ -1      │ -1     │\n",
       "│ 3   │ 1       │ -1      │ 1       │ 1       │ -1      │ -1      │ -1     │\n",
       "│ 4   │ -1      │ 1       │ 1       │ -1      │ -1      │ -1      │ 1      │\n",
       "│ 5   │ 1       │ 1       │ -1      │ -1      │ -1      │ 1       │ -1     │\n",
       "│ 6   │ 1       │ -1      │ -1      │ -1      │ 1       │ -1      │ 1      │\n",
       "│ 7   │ -1      │ -1      │ -1      │ 1       │ -1      │ 1       │ 1      │\n",
       "│ 8   │ -1      │ -1      │ 1       │ -1      │ 1       │ 1       │ -1     │"
      ]
     },
     "execution_count": 3,
     "metadata": {},
     "output_type": "execute_result"
    }
   ],
   "source": [
    "design = PlackettBurman(6)\n",
    "design.matrix"
   ]
  },
  {
   "cell_type": "markdown",
   "metadata": {},
   "source": [
    "Note that it is not possible to construct exact Plackett-Burman designs for all numbers of factors. In the example above, we needed a seventh extra \"dummy\" column to construct the design for six factors.\n",
    "\n",
    "Using the `PlackettBurman` constructor enables quick construction of minimal screening designs for scenarios where we ignore interactions. We can access the underlying formula, which is a `Term` object from the [StatsModels package](https://juliastats.org/StatsModels.jl/stable/):"
   ]
  },
  {
   "cell_type": "code",
   "execution_count": 4,
   "metadata": {},
   "outputs": [
    {
     "name": "stdout",
     "output_type": "stream",
     "text": [
      "0 ~ -1 + factor1 + factor2 + factor3 + factor4 + factor5 + factor6 + dummy1\n"
     ]
    }
   ],
   "source": [
    "println(design.formula)"
   ]
  },
  {
   "cell_type": "markdown",
   "metadata": {},
   "source": [
    "Notice we ignore interactions and include the dummy factor in the model. Strong main effects attributed to dummy factors may indicate important interactions.\n",
    "\n",
    "We can obtain a tuple with the names of dummy factors:"
   ]
  },
  {
   "cell_type": "code",
   "execution_count": 5,
   "metadata": {},
   "outputs": [
    {
     "data": {
      "text/plain": [
       "(:dummy1,)"
      ]
     },
     "execution_count": 5,
     "metadata": {},
     "output_type": "execute_result"
    }
   ],
   "source": [
    "design.dummy_factors"
   ]
  },
  {
   "cell_type": "markdown",
   "metadata": {},
   "source": [
    "We can also get the main factors tuple:"
   ]
  },
  {
   "cell_type": "code",
   "execution_count": 6,
   "metadata": {},
   "outputs": [
    {
     "data": {
      "text/plain": [
       "(:factor1, :factor2, :factor3, :factor4, :factor5, :factor6)"
      ]
     },
     "execution_count": 6,
     "metadata": {},
     "output_type": "execute_result"
    }
   ],
   "source": [
    "design.factors"
   ]
  },
  {
   "cell_type": "markdown",
   "metadata": {},
   "source": [
    "You can check other constructors on [the docs](https://phrb.github.io/ExperimentalDesign.jl/dev/lib/public/#ExperimentalDesign.PlackettBurman-Tuple{Int64})."
   ]
  },
  {
   "cell_type": "markdown",
   "metadata": {},
   "source": [
    "# Computing Main Effects\n",
    "\n",
    "Suppose that the response variable on the experiments specified in our screening design is computed by:\n",
    "\n",
    "$$\n",
    "y = 1.2 + (2.3f_1) + (-3.4f_2) + (7.12f_3) + (-0.03f_4) + (1.1f_5) + (-0.5f_6) + \\varepsilon\n",
    "$$\n",
    "\n",
    "The coefficients we want to estimate are:\n",
    "\n",
    "| Intercept | factor1 | factor2 | factor3 | factor4 | factor5 | factor6 |\n",
    "|---|---|---|---|---|---|---|\n",
    "| 1.2 | 2.3 | -3.4 | 7.12 | -0.03 | 1.1 | -0.5 |\n",
    "\n",
    "The corresponding Julia function is:"
   ]
  },
  {
   "cell_type": "code",
   "execution_count": 7,
   "metadata": {},
   "outputs": [
    {
     "data": {
      "text/plain": [
       "y (generic function with 1 method)"
      ]
     },
     "execution_count": 7,
     "metadata": {},
     "output_type": "execute_result"
    }
   ],
   "source": [
    "function y(x)\n",
    "    return (1.2) +\n",
    "           (2.3 * x[1]) +\n",
    "           (-3.4 * x[2]) +\n",
    "           (7.12 * x[3]) +\n",
    "           (-0.03 * x[4]) +\n",
    "           (1.1 * x[5]) +\n",
    "           (-0.5 * x[6]) +\n",
    "           (1.1 * randn())\n",
    "end"
   ]
  },
  {
   "cell_type": "markdown",
   "metadata": {},
   "source": [
    "We can compute the response column for our design using the cell below. Recall that the default is to call the response column `:response`. We are going to set the seeds each time we run `y(x)`, so we analyse same results. Play with different seeds to observe variability of estimates."
   ]
  },
  {
   "cell_type": "code",
   "execution_count": 8,
   "metadata": {},
   "outputs": [
    {
     "data": {
      "text/html": [
       "<table class=\"data-frame\"><thead><tr><th></th><th>factor1</th><th>factor2</th><th>factor3</th><th>factor4</th><th>factor5</th><th>factor6</th><th>dummy1</th><th>response</th></tr><tr><th></th><th>Int64</th><th>Int64</th><th>Int64</th><th>Int64</th><th>Int64</th><th>Int64</th><th>Int64</th><th>Float64</th></tr></thead><tbody><p>8 rows × 8 columns</p><tr><th>1</th><td>1</td><td>1</td><td>1</td><td>1</td><td>1</td><td>1</td><td>1</td><td>8.53078</td></tr><tr><th>2</th><td>-1</td><td>1</td><td>-1</td><td>1</td><td>1</td><td>-1</td><td>-1</td><td>-11.1296</td></tr><tr><th>3</th><td>1</td><td>-1</td><td>1</td><td>1</td><td>-1</td><td>-1</td><td>-1</td><td>14.0101</td></tr><tr><th>4</th><td>-1</td><td>1</td><td>1</td><td>-1</td><td>-1</td><td>-1</td><td>1</td><td>2.30315</td></tr><tr><th>5</th><td>1</td><td>1</td><td>-1</td><td>-1</td><td>-1</td><td>1</td><td>-1</td><td>-7.15356</td></tr><tr><th>6</th><td>1</td><td>-1</td><td>-1</td><td>-1</td><td>1</td><td>-1</td><td>1</td><td>-0.972234</td></tr><tr><th>7</th><td>-1</td><td>-1</td><td>-1</td><td>1</td><td>-1</td><td>1</td><td>1</td><td>-7.84967</td></tr><tr><th>8</th><td>-1</td><td>-1</td><td>1</td><td>-1</td><td>1</td><td>1</td><td>-1</td><td>9.78249</td></tr></tbody></table>"
      ],
      "text/latex": [
       "\\begin{tabular}{r|cccccccc}\n",
       "\t& factor1 & factor2 & factor3 & factor4 & factor5 & factor6 & dummy1 & response\\\\\n",
       "\t\\hline\n",
       "\t& Int64 & Int64 & Int64 & Int64 & Int64 & Int64 & Int64 & Float64\\\\\n",
       "\t\\hline\n",
       "\t1 & 1 & 1 & 1 & 1 & 1 & 1 & 1 & 8.53078 \\\\\n",
       "\t2 & -1 & 1 & -1 & 1 & 1 & -1 & -1 & -11.1296 \\\\\n",
       "\t3 & 1 & -1 & 1 & 1 & -1 & -1 & -1 & 14.0101 \\\\\n",
       "\t4 & -1 & 1 & 1 & -1 & -1 & -1 & 1 & 2.30315 \\\\\n",
       "\t5 & 1 & 1 & -1 & -1 & -1 & 1 & -1 & -7.15356 \\\\\n",
       "\t6 & 1 & -1 & -1 & -1 & 1 & -1 & 1 & -0.972234 \\\\\n",
       "\t7 & -1 & -1 & -1 & 1 & -1 & 1 & 1 & -7.84967 \\\\\n",
       "\t8 & -1 & -1 & 1 & -1 & 1 & 1 & -1 & 9.78249 \\\\\n",
       "\\end{tabular}\n"
      ],
      "text/plain": [
       "8×8 DataFrame. Omitted printing of 1 columns\n",
       "│ Row │ factor1 │ factor2 │ factor3 │ factor4 │ factor5 │ factor6 │ dummy1 │\n",
       "│     │ \u001b[90mInt64\u001b[39m   │ \u001b[90mInt64\u001b[39m   │ \u001b[90mInt64\u001b[39m   │ \u001b[90mInt64\u001b[39m   │ \u001b[90mInt64\u001b[39m   │ \u001b[90mInt64\u001b[39m   │ \u001b[90mInt64\u001b[39m  │\n",
       "├─────┼─────────┼─────────┼─────────┼─────────┼─────────┼─────────┼────────┤\n",
       "│ 1   │ 1       │ 1       │ 1       │ 1       │ 1       │ 1       │ 1      │\n",
       "│ 2   │ -1      │ 1       │ -1      │ 1       │ 1       │ -1      │ -1     │\n",
       "│ 3   │ 1       │ -1      │ 1       │ 1       │ -1      │ -1      │ -1     │\n",
       "│ 4   │ -1      │ 1       │ 1       │ -1      │ -1      │ -1      │ 1      │\n",
       "│ 5   │ 1       │ 1       │ -1      │ -1      │ -1      │ 1       │ -1     │\n",
       "│ 6   │ 1       │ -1      │ -1      │ -1      │ 1       │ -1      │ 1      │\n",
       "│ 7   │ -1      │ -1      │ -1      │ 1       │ -1      │ 1       │ 1      │\n",
       "│ 8   │ -1      │ -1      │ 1       │ -1      │ 1       │ 1       │ -1     │"
      ]
     },
     "execution_count": 8,
     "metadata": {},
     "output_type": "execute_result"
    }
   ],
   "source": [
    "Random.seed!(192938)\n",
    "\n",
    "design.matrix[!, :response] = y.(eachrow(design.matrix[:, collect(design.factors)]))\n",
    "design.matrix"
   ]
  },
  {
   "cell_type": "markdown",
   "metadata": {},
   "source": [
    "Now, we use the `lm` function from the [GLM package](https://juliastats.org/GLM.jl/stable/) to fit a linear model using the design's matrix and formula:"
   ]
  },
  {
   "cell_type": "code",
   "execution_count": 15,
   "metadata": {},
   "outputs": [
    {
     "data": {
      "text/plain": [
       "StatsModels.TableRegressionModel{LinearModel{GLM.LmResp{Array{Float64,1}},GLM.DensePredChol{Float64,LinearAlgebra.Cholesky{Float64,Array{Float64,2}}}},Array{Float64,2}}\n",
       "\n",
       "response ~ 0 + factor1 + factor2 + factor3 + factor4 + factor5 + factor6 + dummy1\n",
       "\n",
       "Coefficients:\n",
       "───────────────────────────────────────────────────────────────────────────\n",
       "           Estimate  Std. Error     t value  Pr(>|t|)  Lower 95%  Upper 95%\n",
       "───────────────────────────────────────────────────────────────────────────\n",
       "factor1   2.66359      0.940183   2.83305      0.2160   -9.28257   14.6097 \n",
       "factor2  -2.80249      0.940183  -2.98079      0.2061  -14.7486     9.14367\n",
       "factor3   7.71644      0.940183   8.20739      0.0772   -4.22971   19.6626 \n",
       "factor4  -0.0497774    0.940183  -0.0529443    0.9663  -11.9959    11.8964 \n",
       "factor5   0.612681     0.940183   0.651661     0.6323  -11.3335    12.5588 \n",
       "factor6  -0.112675     0.940183  -0.119844     0.9241  -12.0588    11.8335 \n",
       "dummy1   -0.437176     0.940183  -0.46499      0.7229  -12.3833    11.509  \n",
       "───────────────────────────────────────────────────────────────────────────"
      ]
     },
     "execution_count": 15,
     "metadata": {},
     "output_type": "execute_result"
    }
   ],
   "source": [
    "lm(term(:response) ~ design.formula.rhs, design.matrix)"
   ]
  },
  {
   "cell_type": "markdown",
   "metadata": {},
   "source": [
    "The table below shows the coefficients estimated by the linear model fit using the Plackett-Burman Design. The purpose of a screening design is not to estimate the actual coefficients, but instead to compute factor main effects. Note that standard errors are the same for every factor estimate. This happens because the design is orthogonal.\n",
    "\n",
    "| | Intercept | factor1 | factor2 | factor3 | factor4 | factor5 | factor6 | dummy1 |\n",
    "|---|---|---|---|---|---|---|---|---|\n",
    "| Original | 1.2 | 2.3 | -3.4 | 7.12 | -0.03 | 1.1 | -0.5 | $-$ |\n",
    "| Plackett-Burman Main Effects | $-$ | 2.66359 | -2.80249 | 7.71644 | -0.0497774 | 0.612681 | -0.112675 | -0.437176 |\n",
    "\n",
    "We can use the coefficient magnitudes to infer that factor 3 probably has a strong main effect, and that factor 6 has not. Our dummy column had a relatively small coefficient estimate, so we could attempt to ignore interactions on subsequent experiments.\n",
    "\n",
    "# Fitting a Linear Model\n",
    "\n",
    "We can also try to fit a linear model on our design data in order to estimate coefficients. We would need to drop the dummy column and add the intercept term:"
   ]
  },
  {
   "cell_type": "code",
   "execution_count": 16,
   "metadata": {
    "scrolled": true
   },
   "outputs": [
    {
     "data": {
      "text/plain": [
       "StatsModels.TableRegressionModel{LinearModel{GLM.LmResp{Array{Float64,1}},GLM.DensePredChol{Float64,LinearAlgebra.Cholesky{Float64,Array{Float64,2}}}},Array{Float64,2}}\n",
       "\n",
       "response ~ 1 + factor1 + factor2 + factor3 + factor4 + factor5 + factor6\n",
       "\n",
       "Coefficients:\n",
       "──────────────────────────────────────────────────────────────────────────────\n",
       "               Estimate  Std. Error    t value  Pr(>|t|)  Lower 95%  Upper 95%\n",
       "──────────────────────────────────────────────────────────────────────────────\n",
       "(Intercept)   0.940183     0.437176   2.15058     0.2771   -4.61466    6.49503\n",
       "factor1       2.66359      0.437176   6.09271     0.1036   -2.89126    8.21843\n",
       "factor2      -2.80249      0.437176  -6.41043     0.0985   -8.35733    2.75236\n",
       "factor3       7.71644      0.437176  17.6507      0.0360    2.1616    13.2713 \n",
       "factor4      -0.0497774    0.437176  -0.113861    0.9278   -5.60462    5.50507\n",
       "factor5       0.612681     0.437176   1.40145     0.3946   -4.94217    6.16753\n",
       "factor6      -0.112675     0.437176  -0.257734    0.8394   -5.66752    5.44217\n",
       "──────────────────────────────────────────────────────────────────────────────"
      ]
     },
     "execution_count": 16,
     "metadata": {},
     "output_type": "execute_result"
    }
   ],
   "source": [
    "lm(term(:response) ~ sum(term.(design.factors)), design.matrix)"
   ]
  },
  {
   "cell_type": "markdown",
   "metadata": {},
   "source": [
    "Our table so far looks like this:\n",
    "\n",
    "| | Intercept | factor1 | factor2 | factor3 | factor4 | factor5 | factor6 | dummy1 |\n",
    "|---|---|---|---|---|---|---|---|---|\n",
    "| Original | 1.2 | 2.3 | -3.4 | 7.12 | -0.03 | 1.1 | -0.5 | $-$ |\n",
    "| Plackett-Burman Main Effects | $-$ | 2.66359 | -2.80249 | 7.71644 | -0.0497774 | 0.612681 | -0.112675 | -0.437176 |\n",
    "| Plackett-Burman Estimate | 0.940183 | 2.66359 | -2.80249 | 7.71644 | -0.0497774 | 0.612681 | -0.112675 | $-$ |\n",
    "\n",
    "Notice that, since the standard errors are the same for all factors, factors with stronger main effects are better estimated. Notice that, despite the \"good\" coefficient estimates, the confidence intervals are really large.\n",
    "\n",
    "This is a biased comparison where the screening design \"works\" for coefficient estimation as well, but we would rather use fractional factorial or optimal designs to estimate the coefficients of factors with strong effects. Screening should be used to compute main effects and identifying which factors to test next.\n",
    "\n",
    "# Generating Random Designs\n",
    "\n",
    "We can also compare the coefficients produced by the same linear model fit, but using a random design. For more information, check [the docs](https://phrb.github.io/ExperimentalDesign.jl/dev/lib/public/#ExperimentalDesign.RandomDesign-Tuple{NamedTuple})."
   ]
  },
  {
   "cell_type": "code",
   "execution_count": 20,
   "metadata": {
    "scrolled": false
   },
   "outputs": [
    {
     "data": {
      "text/html": [
       "<table class=\"data-frame\"><thead><tr><th></th><th>factor1</th><th>factor2</th><th>factor3</th><th>factor4</th><th>factor5</th><th>factor6</th><th>response</th></tr><tr><th></th><th>Float64</th><th>Float64</th><th>Float64</th><th>Float64</th><th>Float64</th><th>Float64</th><th>Float64</th></tr></thead><tbody><p>8 rows × 7 columns</p><tr><th>1</th><td>1.0</td><td>-1.0</td><td>1.0</td><td>1.0</td><td>1.0</td><td>1.0</td><td>14.8616</td></tr><tr><th>2</th><td>1.0</td><td>-1.0</td><td>1.0</td><td>1.0</td><td>-1.0</td><td>-1.0</td><td>11.8434</td></tr><tr><th>3</th><td>-1.0</td><td>1.0</td><td>1.0</td><td>-1.0</td><td>-1.0</td><td>-1.0</td><td>2.64702</td></tr><tr><th>4</th><td>1.0</td><td>-1.0</td><td>1.0</td><td>-1.0</td><td>1.0</td><td>-1.0</td><td>15.5183</td></tr><tr><th>5</th><td>1.0</td><td>1.0</td><td>1.0</td><td>-1.0</td><td>1.0</td><td>1.0</td><td>7.76413</td></tr><tr><th>6</th><td>1.0</td><td>-1.0</td><td>1.0</td><td>1.0</td><td>1.0</td><td>-1.0</td><td>15.6221</td></tr><tr><th>7</th><td>-1.0</td><td>-1.0</td><td>-1.0</td><td>-1.0</td><td>1.0</td><td>-1.0</td><td>-3.63797</td></tr><tr><th>8</th><td>1.0</td><td>1.0</td><td>-1.0</td><td>-1.0</td><td>-1.0</td><td>-1.0</td><td>-9.45331</td></tr></tbody></table>"
      ],
      "text/latex": [
       "\\begin{tabular}{r|ccccccc}\n",
       "\t& factor1 & factor2 & factor3 & factor4 & factor5 & factor6 & response\\\\\n",
       "\t\\hline\n",
       "\t& Float64 & Float64 & Float64 & Float64 & Float64 & Float64 & Float64\\\\\n",
       "\t\\hline\n",
       "\t1 & 1.0 & -1.0 & 1.0 & 1.0 & 1.0 & 1.0 & 14.8616 \\\\\n",
       "\t2 & 1.0 & -1.0 & 1.0 & 1.0 & -1.0 & -1.0 & 11.8434 \\\\\n",
       "\t3 & -1.0 & 1.0 & 1.0 & -1.0 & -1.0 & -1.0 & 2.64702 \\\\\n",
       "\t4 & 1.0 & -1.0 & 1.0 & -1.0 & 1.0 & -1.0 & 15.5183 \\\\\n",
       "\t5 & 1.0 & 1.0 & 1.0 & -1.0 & 1.0 & 1.0 & 7.76413 \\\\\n",
       "\t6 & 1.0 & -1.0 & 1.0 & 1.0 & 1.0 & -1.0 & 15.6221 \\\\\n",
       "\t7 & -1.0 & -1.0 & -1.0 & -1.0 & 1.0 & -1.0 & -3.63797 \\\\\n",
       "\t8 & 1.0 & 1.0 & -1.0 & -1.0 & -1.0 & -1.0 & -9.45331 \\\\\n",
       "\\end{tabular}\n"
      ],
      "text/plain": [
       "8×7 DataFrame\n",
       "│ Row │ factor1 │ factor2 │ factor3 │ factor4 │ factor5 │ factor6 │ response │\n",
       "│     │ \u001b[90mFloat64\u001b[39m │ \u001b[90mFloat64\u001b[39m │ \u001b[90mFloat64\u001b[39m │ \u001b[90mFloat64\u001b[39m │ \u001b[90mFloat64\u001b[39m │ \u001b[90mFloat64\u001b[39m │ \u001b[90mFloat64\u001b[39m  │\n",
       "├─────┼─────────┼─────────┼─────────┼─────────┼─────────┼─────────┼──────────┤\n",
       "│ 1   │ 1.0     │ -1.0    │ 1.0     │ 1.0     │ 1.0     │ 1.0     │ 14.8616  │\n",
       "│ 2   │ 1.0     │ -1.0    │ 1.0     │ 1.0     │ -1.0    │ -1.0    │ 11.8434  │\n",
       "│ 3   │ -1.0    │ 1.0     │ 1.0     │ -1.0    │ -1.0    │ -1.0    │ 2.64702  │\n",
       "│ 4   │ 1.0     │ -1.0    │ 1.0     │ -1.0    │ 1.0     │ -1.0    │ 15.5183  │\n",
       "│ 5   │ 1.0     │ 1.0     │ 1.0     │ -1.0    │ 1.0     │ 1.0     │ 7.76413  │\n",
       "│ 6   │ 1.0     │ -1.0    │ 1.0     │ 1.0     │ 1.0     │ -1.0    │ 15.6221  │\n",
       "│ 7   │ -1.0    │ -1.0    │ -1.0    │ -1.0    │ 1.0     │ -1.0    │ -3.63797 │\n",
       "│ 8   │ 1.0     │ 1.0     │ -1.0    │ -1.0    │ -1.0    │ -1.0    │ -9.45331 │"
      ]
     },
     "execution_count": 20,
     "metadata": {},
     "output_type": "execute_result"
    }
   ],
   "source": [
    "Random.seed!(8418172)\n",
    "\n",
    "design_distribution = DesignDistribution(DiscreteNonParametric([-1, 1], [0.5, 0.5]), 6)\n",
    "random_design = rand(design_distribution, 8)\n",
    "\n",
    "random_design.matrix[!, :response] = y.(eachrow(random_design.matrix[:, :]))\n",
    "random_design.matrix"
   ]
  },
  {
   "cell_type": "code",
   "execution_count": 13,
   "metadata": {},
   "outputs": [
    {
     "data": {
      "text/plain": [
       "StatsModels.TableRegressionModel{LinearModel{GLM.LmResp{Array{Float64,1}},GLM.DensePredChol{Float64,LinearAlgebra.Cholesky{Float64,Array{Float64,2}}}},Array{Float64,2}}\n",
       "\n",
       "response ~ 1 + factor1 + factor2 + factor3 + factor4 + factor5 + factor6\n",
       "\n",
       "Coefficients:\n",
       "─────────────────────────────────────────────────────────────────────────────\n",
       "              Estimate  Std. Error    t value  Pr(>|t|)  Lower 95%  Upper 95%\n",
       "─────────────────────────────────────────────────────────────────────────────\n",
       "(Intercept)   0.600392    0.738868   0.812583    0.5656   -8.78781    9.9886 \n",
       "factor1       2.2371      0.639878   3.49613     0.1774   -5.89333   10.3675 \n",
       "factor2      -2.56857     1.04492   -2.45816     0.2460  -15.8455    10.7084 \n",
       "factor3       8.05743     0.738868  10.9051      0.0582   -1.33077   17.4456 \n",
       "factor4       0.140622    1.04492    0.134577    0.9148  -13.1363    13.4175 \n",
       "factor5       0.907918    0.97743    0.928882    0.5235  -11.5115    13.3273 \n",
       "factor6      -0.600354    0.738868  -0.812532    0.5656   -9.98856    8.78785\n",
       "─────────────────────────────────────────────────────────────────────────────"
      ]
     },
     "execution_count": 13,
     "metadata": {},
     "output_type": "execute_result"
    }
   ],
   "source": [
    "lm(random_design_generator.formula, random_design)"
   ]
  },
  {
   "cell_type": "markdown",
   "metadata": {},
   "source": [
    "Now, our table looks like this:\n",
    "\n",
    "| | Intercept | factor1 | factor2 | factor3 | factor4 | factor5 | factor6 | dummy1 |\n",
    "|---|---|---|---|---|---|---|---|---|\n",
    "| Original | 1.2 | 2.3 | -3.4 | 7.12 | -0.03 | 1.1 | -0.5 | $-$ |\n",
    "| Plackett-Burman Main Effects | $-$ | 2.66359 | -2.80249 | 7.71644 | -0.0497774 | 0.612681 | -0.112675 | -0.437176 |\n",
    "| Plackett-Burman Estimate | 0.940183 | 2.66359 | -2.80249 | 7.71644 | -0.0497774 | 0.612681 | -0.112675 | $-$ |\n",
    "| Single Random Design Estimate | 0.600392 | 2.2371 | -2.56857 | 8.05743 | 0.140622 | 0.907918 | -0.600354 | $-$ |\n",
    "\n",
    "The estimates produced using random designs will have larger confidence intervals, and therefore increased variability. The Plackett-Burman design is fixed, but can be randomised. The variability of main effects estimates using screening designs will depend on measurement or model error.\n",
    "\n",
    "# Generating Full Factorial Designs\n",
    "\n",
    "In this toy example, it is possible to generate all the possible combinations of six binary factors and compute the response. Although it costs 64 experiments, the linear model fit for the full factorial design should produce the best coefficient estimates.\n",
    "\n",
    "The simplest full factorial design constructor receives an array of possible factor levels. For more, check [the docs](https://phrb.github.io/ExperimentalDesign.jl/dev/lib/public/#ExperimentalDesign.FullFactorial-Tuple{NamedTuple,StatsModels.FormulaTerm})."
   ]
  },
  {
   "cell_type": "code",
   "execution_count": 24,
   "metadata": {},
   "outputs": [
    {
     "data": {
      "text/plain": [
       "StatsModels.TableRegressionModel{LinearModel{GLM.LmResp{Array{Float64,1}},GLM.DensePredChol{Float64,LinearAlgebra.Cholesky{Float64,Array{Float64,2}}}},Array{Float64,2}}\n",
       "\n",
       "response ~ 1 + factor1 + factor2 + factor3 + factor4 + factor5 + factor6\n",
       "\n",
       "Coefficients:\n",
       "──────────────────────────────────────────────────────────────────────────────\n",
       "              Estimate  Std. Error    t value  Pr(>|t|)  Lower 95%   Upper 95%\n",
       "──────────────────────────────────────────────────────────────────────────────\n",
       "(Intercept)   1.13095     0.123021    9.1932     <1e-12   0.88461    1.3773   \n",
       "factor1       2.23668     0.123021   18.1813     <1e-24   1.99034    2.48303  \n",
       "factor2      -3.4775      0.123021  -28.2675     <1e-34  -3.72384   -3.23115  \n",
       "factor3       6.95531     0.123021   56.5377     <1e-51   6.70897    7.20166  \n",
       "factor4      -0.160546    0.123021   -1.30503    0.1971  -0.406891   0.0857987\n",
       "factor5       0.975471    0.123021    7.92932    <1e-10   0.729127   1.22182  \n",
       "factor6      -0.357748    0.123021   -2.90803    0.0052  -0.604093  -0.111403 \n",
       "──────────────────────────────────────────────────────────────────────────────"
      ]
     },
     "execution_count": 24,
     "metadata": {},
     "output_type": "execute_result"
    }
   ],
   "source": [
    "Random.seed!(2989476)\n",
    "\n",
    "factorial_design = FullFactorial(fill([-1, 1], 6))\n",
    "factorial_design.matrix[!, :response] = y.(eachrow(factorial_design.matrix[:, :]))\n",
    "\n",
    "lm(term(:response) ~ factorial_design.formula.rhs, factorial_design.matrix)"
   ]
  },
  {
   "cell_type": "markdown",
   "metadata": {},
   "source": [
    "The confidence intervals for this fit are much smaller. Since we have all information on all factors and this is a balanced design, the standard error is the same for all estimates. Here's the complete table:\n",
    "\n",
    "| | Intercept | factor1 | factor2 | factor3 | factor4 | factor5 | factor6 | dummy1 |\n",
    "|---|---|---|---|---|---|---|---|---|\n",
    "| Original | 1.2 | 2.3 | -3.4 | 7.12 | -0.03 | 1.1 | -0.5 | $-$ |\n",
    "| Plackett-Burman Main Effects | $-$ | 2.66359 | -2.80249 | 7.71644 | -0.0497774 | 0.612681 | -0.112675 | -0.437176 |\n",
    "| Plackett-Burman Estimate | 0.940183 | 2.66359 | -2.80249 | 7.71644 | -0.0497774 | 0.612681 | -0.112675 | $-$ |\n",
    "| Single Random Design Estimate | 0.600392 | 2.2371 | -2.56857 | 8.05743 | 0.140622 | 0.907918 | -0.600354 | $-$ |\n",
    "| Full Factorial Estimate | 1.13095 | 2.23668 | -3.4775 | 6.95531 | -0.160546 | 0.975471 | -0.357748 | $-$ |\n",
    "\n",
    "Full factorial designs may be too expensive in actual applications. Fractional factorial designs or optimal designs can be used to decrease costs while still providing good estimates. Screening designs are extremely cheap, and can help determine which factors can potentially be dropped on more expensive and precise designs.\n",
    "\n",
    "Check the examples directory for more tutorials!"
   ]
  }
 ],
 "metadata": {
  "kernelspec": {
   "display_name": "Julia 1.4.1",
   "language": "julia",
   "name": "julia-1.4"
  },
  "language_info": {
   "file_extension": ".jl",
   "mimetype": "application/julia",
   "name": "julia",
   "version": "1.4.1"
  }
 },
 "nbformat": 4,
 "nbformat_minor": 2
}
